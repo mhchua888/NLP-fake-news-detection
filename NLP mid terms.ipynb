{
 "cells": [
  {
   "cell_type": "markdown",
   "id": "8c048011",
   "metadata": {},
   "source": [
    "# Introduction\n",
    "\n",
    "### Domain-specific area\n",
    "\n",
    "Fake news has existed as a concept before humans began to write things down on paper. One of the earliest recorded examples would be by Octavian, Julio Caesar’s adopted son against Marc Anthony, who was backed by Cleopatra. It was executed via short slogans written on coins, resulting in Anthony being declared as a traitor and subsequently, war was declared on Cleopatra. \n",
    "\n",
    "Recently fake news have been on the rise once more, discrediting political opponents to affect social discourse. Fake news can be split into four main types. Firstly, deliberate fake news is the spreading of intentionally fabricated news. This is often done to either generate money through clicks or to cause confusion or discontent. Secondly, news that hold some truth but used in a misleading way to serve an agenda. Thirdly, fake news stories are sometimes published as satire or parody as a form of humour but when shared out of context they have the potential to fool readers. Last but not least, unintentionally fake news where there is no established baseline for truth. This includes conspiracy theories or rumours. \n",
    "\n",
    "Of all various types of misinformation available, fake news articles have been increasingly easier to encounter as they are easy to create and they generate a large amount of revenue through clicks and interactions. Fake news can be commonly found in social media sites such as Twitter and Facebook, or even messaging applications like WhatsApp where quality of sources are often not verified. In this modernised world, these sites and applications are very popular and common, allowing fake news to be spread at an extremely high speed. \n",
    "\n",
    "Although fake news bring about many problems, they have had a positive influence to a certain extent. Fake news has led to reliable and quality journalism receiving increased interest, helping old media regain its footing in this digitalised world. However, this does not justify and validate the existence of fake news, and one should learn to discriminate between real and fake news.\n",
    "\n"
   ]
  },
  {
   "cell_type": "markdown",
   "id": "6e87152c",
   "metadata": {},
   "source": [
    "### Objectives\n",
    "\n",
    "The objective of this project is to develop a text classifier to carry out fake news detection so we are able to reduce interference as much as possible. We must know that malicious people spreading fake news do not do it solely for political purposes, businesses can be part of their agenda as well where credibility of the businesses can be affected to reduce or increase the number of customers. However, without prior knowledge of the website’s credibility, one would not be able to tell if it can be trusted or not. \n",
    "\n",
    "Some solutions currently being implemented include Twitter requiring users to confirm their identity via email or phone number to combat the creation of spam or bot accounts. Facebook is testing out its external fact-checking program to reduce the visibility of inaccurate stories or posts in news feeds. In the UK, The Independent Press Standard Organisation launched the IPSO mark. Publications would sign up with the organisation to use its physical and online versions of the logo to inform readers about their legitimacy. This allows readers to know that the publication they are using follows the standards of the Editor’s Code of Practice.\n",
    "\n",
    "However, not all news outlets would sign up with the IPSO initiative. When this happens, the only way to verify the news outlet’s credibility would be to fact check every single news article they post. This requires a lot of manpower and is extremely time consuming, and would often result in users returning to other credible sources. The project would like to explore the possibility of using a text classifier to predict the accuracy and credibility of the various news outlets available. With this classifier, I hope that users would be better equipped to analyse and find out if this particular news outlet can be trusted.\n"
   ]
  },
  {
   "cell_type": "markdown",
   "id": "fabc3ea2",
   "metadata": {},
   "source": [
    "### Dataset\n",
    "\n",
    "I have managed to identify a suitable dataset that could be representative for the domain of fake news for this particular project. This “Fake and real news dataset” can be accessed via the Kaggle official website. Originally found in the Information Security and Object Technology Research Lab of the University of Victoria, this dataset is split into Fake and True csv files. The files’ original source would be Ahmed H, Traore I, Saad S. “Detecting opinion spams and fake news using text classification”, Journal of Security and Privacy, Volume 1, Issue 1, Wiley,\n",
    "January/February 2018, and Ahmed H, Traore I, Saad S. (2017) “Detection of Online Fake News Using N-Gram Analysis and Machine Learning Techniques. In: Traore I., Woungang I., Awad A. (eds) Intelligent, Secure, and Dependable Systems in Distributed and Cloud Environments. ISDDC 2017. Lecture Notes in Computer Science, vol 10618. Springer, Cham (pp. 127- 138). \n",
    "\n",
    "The dataset was collected from real-world sources such as Reuters.com for the real articles, and various unreliable websites flagged by Politifact for the fake articles. The Fake csv file has 23500 entries and the True csv file has 21400 entries. The data set contains the title, text, subject and date of the article. The subject of the articles refer to the category of news they belong to, such as News, Politics, US_News and etc. Even though the datatype of the data is object, the datatype of title, text, and subject can be considered as string and the data type of date, datetime."
   ]
  },
  {
   "cell_type": "markdown",
   "id": "d910cc88",
   "metadata": {},
   "source": [
    "### Evaluation"
   ]
  },
  {
   "attachments": {
    "telegram-cloud-photo-size-5-6140782650722465070-x.jpg": {
     "image/jpeg": "[encoded data removed]"
    }
   },
   "cell_type": "markdown",
   "id": "ae6432ba",
   "metadata": {},
   "source": [
    "The evaluation metrics that we will apply would be precision, recall, accuracy and f-score. \n",
    "\n",
    "Precision is also known as the quality of positive predictions made by a model. It answers the question of what proportion of the positive predictions was actually correct and is defined by dividing the true positives by the sum of true and false positives. Recall, on the other hand is the fraction of positives that have been correctly predicted. It answers the question of what proportion of actual positives was identified correctly and is defined by dividing the true positives by the sum of true positives and false negatives. \n",
    "\n",
    "Accuracy, the simplest metric used in this project, would refer to the ratio of number of correct predictions and the total number of predictions. F1 score combines the precision and recall scores of a model using their harmonic mean. Therefore the higher the F1 score would mean the higher the precision and recall scores, resulting in researchers using this to evaluate their models. F1 score is calculated using the below formula.\n",
    "\n",
    "![telegram-cloud-photo-size-5-6140782650722465070-x.jpg](attachment:telegram-cloud-photo-size-5-6140782650722465070-x.jpg)\n",
    "\n",
    "To fully evaluate the effectiveness of a particular model, we have to look at both precision and recall. A perfect machine learning classifier may achieve 100 percent of both precision and recall but in a real-world situation, there is a tug-of-war between precision and recall. A high precision score would usually result in a lower recall and vice versa. However in this project we would aim to have high precision and recall scores, which can be inferred from a high F1 score as a maximised F1 score implies high scores for both precision and recall."
   ]
  },
  {
   "cell_type": "markdown",
   "id": "5cde396c",
   "metadata": {},
   "source": [
    "# Implementation\n",
    "\n",
    "### Importing and exploring data"
   ]
  },
  {
   "cell_type": "code",
   "execution_count": 93,
   "id": "2a8c415c",
   "metadata": {},
   "outputs": [],
   "source": [
    "#basic set up\n",
    "import os\n",
    "import numpy as np\n",
    "import pandas as pd\n",
    "\n",
    "#various ML toolkits\n",
    "from sklearn.model_selection import train_test_split\n",
    "from sklearn.feature_extraction.text import TfidfVectorizer\n",
    "from sklearn.metrics import accuracy_score, confusion_matrix, f1_score, precision_score, recall_score\n",
    "from sklearn.metrics import classification_report\n",
    "from sklearn.utils.extmath import density\n",
    "from sklearn.pipeline import make_pipeline\n",
    "\n",
    "#data visualisation tools\n",
    "import matplotlib.pyplot as plt\n",
    "import seaborn as sns\n",
    "from mlxtend.plotting import plot_confusion_matrix\n"
   ]
  },
  {
   "cell_type": "code",
   "execution_count": 67,
   "id": "7f35d19f",
   "metadata": {},
   "outputs": [],
   "source": [
    "#importing local csv files\n",
    "fake = pd.read_csv('Fake.csv')\n",
    "true = pd.read_csv('True.csv')"
   ]
  },
  {
   "cell_type": "code",
   "execution_count": 68,
   "id": "97512192",
   "metadata": {},
   "outputs": [
    {
     "data": {
      "text/html": [
       "<div>\n",
       "<style scoped>\n",
       "    .dataframe tbody tr th:only-of-type {\n",
       "        vertical-align: middle;\n",
       "    }\n",
       "\n",
       "    .dataframe tbody tr th {\n",
       "        vertical-align: top;\n",
       "    }\n",
       "\n",
       "    .dataframe thead th {\n",
       "        text-align: right;\n",
       "    }\n",
       "</style>\n",
       "<table border=\"1\" class=\"dataframe\">\n",
       "  <thead>\n",
       "    <tr style=\"text-align: right;\">\n",
       "      <th></th>\n",
       "      <th>title</th>\n",
       "      <th>text</th>\n",
       "      <th>subject</th>\n",
       "      <th>date</th>\n",
       "    </tr>\n",
       "  </thead>\n",
       "  <tbody>\n",
       "    <tr>\n",
       "      <th>0</th>\n",
       "      <td>Donald Trump Sends Out Embarrassing New Year’...</td>\n",
       "      <td>Donald Trump just couldn t wish all Americans ...</td>\n",
       "      <td>News</td>\n",
       "      <td>December 31, 2017</td>\n",
       "    </tr>\n",
       "    <tr>\n",
       "      <th>1</th>\n",
       "      <td>Drunk Bragging Trump Staffer Started Russian ...</td>\n",
       "      <td>House Intelligence Committee Chairman Devin Nu...</td>\n",
       "      <td>News</td>\n",
       "      <td>December 31, 2017</td>\n",
       "    </tr>\n",
       "    <tr>\n",
       "      <th>2</th>\n",
       "      <td>Sheriff David Clarke Becomes An Internet Joke...</td>\n",
       "      <td>On Friday, it was revealed that former Milwauk...</td>\n",
       "      <td>News</td>\n",
       "      <td>December 30, 2017</td>\n",
       "    </tr>\n",
       "    <tr>\n",
       "      <th>3</th>\n",
       "      <td>Trump Is So Obsessed He Even Has Obama’s Name...</td>\n",
       "      <td>On Christmas day, Donald Trump announced that ...</td>\n",
       "      <td>News</td>\n",
       "      <td>December 29, 2017</td>\n",
       "    </tr>\n",
       "    <tr>\n",
       "      <th>4</th>\n",
       "      <td>Pope Francis Just Called Out Donald Trump Dur...</td>\n",
       "      <td>Pope Francis used his annual Christmas Day mes...</td>\n",
       "      <td>News</td>\n",
       "      <td>December 25, 2017</td>\n",
       "    </tr>\n",
       "  </tbody>\n",
       "</table>\n",
       "</div>"
      ],
      "text/plain": [
       "                                               title  \\\n",
       "0   Donald Trump Sends Out Embarrassing New Year’...   \n",
       "1   Drunk Bragging Trump Staffer Started Russian ...   \n",
       "2   Sheriff David Clarke Becomes An Internet Joke...   \n",
       "3   Trump Is So Obsessed He Even Has Obama’s Name...   \n",
       "4   Pope Francis Just Called Out Donald Trump Dur...   \n",
       "\n",
       "                                                text subject  \\\n",
       "0  Donald Trump just couldn t wish all Americans ...    News   \n",
       "1  House Intelligence Committee Chairman Devin Nu...    News   \n",
       "2  On Friday, it was revealed that former Milwauk...    News   \n",
       "3  On Christmas day, Donald Trump announced that ...    News   \n",
       "4  Pope Francis used his annual Christmas Day mes...    News   \n",
       "\n",
       "                date  \n",
       "0  December 31, 2017  \n",
       "1  December 31, 2017  \n",
       "2  December 30, 2017  \n",
       "3  December 29, 2017  \n",
       "4  December 25, 2017  "
      ]
     },
     "metadata": {},
     "output_type": "display_data"
    },
    {
     "data": {
      "text/html": [
       "<div>\n",
       "<style scoped>\n",
       "    .dataframe tbody tr th:only-of-type {\n",
       "        vertical-align: middle;\n",
       "    }\n",
       "\n",
       "    .dataframe tbody tr th {\n",
       "        vertical-align: top;\n",
       "    }\n",
       "\n",
       "    .dataframe thead th {\n",
       "        text-align: right;\n",
       "    }\n",
       "</style>\n",
       "<table border=\"1\" class=\"dataframe\">\n",
       "  <thead>\n",
       "    <tr style=\"text-align: right;\">\n",
       "      <th></th>\n",
       "      <th>title</th>\n",
       "      <th>text</th>\n",
       "      <th>subject</th>\n",
       "      <th>date</th>\n",
       "    </tr>\n",
       "  </thead>\n",
       "  <tbody>\n",
       "    <tr>\n",
       "      <th>0</th>\n",
       "      <td>As U.S. budget fight looms, Republicans flip t...</td>\n",
       "      <td>WASHINGTON (Reuters) - The head of a conservat...</td>\n",
       "      <td>politicsNews</td>\n",
       "      <td>December 31, 2017</td>\n",
       "    </tr>\n",
       "    <tr>\n",
       "      <th>1</th>\n",
       "      <td>U.S. military to accept transgender recruits o...</td>\n",
       "      <td>WASHINGTON (Reuters) - Transgender people will...</td>\n",
       "      <td>politicsNews</td>\n",
       "      <td>December 29, 2017</td>\n",
       "    </tr>\n",
       "    <tr>\n",
       "      <th>2</th>\n",
       "      <td>Senior U.S. Republican senator: 'Let Mr. Muell...</td>\n",
       "      <td>WASHINGTON (Reuters) - The special counsel inv...</td>\n",
       "      <td>politicsNews</td>\n",
       "      <td>December 31, 2017</td>\n",
       "    </tr>\n",
       "    <tr>\n",
       "      <th>3</th>\n",
       "      <td>FBI Russia probe helped by Australian diplomat...</td>\n",
       "      <td>WASHINGTON (Reuters) - Trump campaign adviser ...</td>\n",
       "      <td>politicsNews</td>\n",
       "      <td>December 30, 2017</td>\n",
       "    </tr>\n",
       "    <tr>\n",
       "      <th>4</th>\n",
       "      <td>Trump wants Postal Service to charge 'much mor...</td>\n",
       "      <td>SEATTLE/WASHINGTON (Reuters) - President Donal...</td>\n",
       "      <td>politicsNews</td>\n",
       "      <td>December 29, 2017</td>\n",
       "    </tr>\n",
       "  </tbody>\n",
       "</table>\n",
       "</div>"
      ],
      "text/plain": [
       "                                               title  \\\n",
       "0  As U.S. budget fight looms, Republicans flip t...   \n",
       "1  U.S. military to accept transgender recruits o...   \n",
       "2  Senior U.S. Republican senator: 'Let Mr. Muell...   \n",
       "3  FBI Russia probe helped by Australian diplomat...   \n",
       "4  Trump wants Postal Service to charge 'much mor...   \n",
       "\n",
       "                                                text       subject  \\\n",
       "0  WASHINGTON (Reuters) - The head of a conservat...  politicsNews   \n",
       "1  WASHINGTON (Reuters) - Transgender people will...  politicsNews   \n",
       "2  WASHINGTON (Reuters) - The special counsel inv...  politicsNews   \n",
       "3  WASHINGTON (Reuters) - Trump campaign adviser ...  politicsNews   \n",
       "4  SEATTLE/WASHINGTON (Reuters) - President Donal...  politicsNews   \n",
       "\n",
       "                 date  \n",
       "0  December 31, 2017   \n",
       "1  December 29, 2017   \n",
       "2  December 31, 2017   \n",
       "3  December 30, 2017   \n",
       "4  December 29, 2017   "
      ]
     },
     "metadata": {},
     "output_type": "display_data"
    }
   ],
   "source": [
    "#preview of both datasets\n",
    "display(fake.head())\n",
    "display(true.head())"
   ]
  },
  {
   "cell_type": "markdown",
   "id": "e3315285",
   "metadata": {},
   "source": [
    "Both datasets looks very basic at first glance, with four columns. They are the article's title, the article text itself, subject and date of the article. The datasets seem to be very simple so let us take a closer look to see if any cleaning is required."
   ]
  },
  {
   "cell_type": "code",
   "execution_count": 69,
   "id": "c2dd68d6",
   "metadata": {},
   "outputs": [
    {
     "name": "stdout",
     "output_type": "stream",
     "text": [
      "<class 'pandas.core.frame.DataFrame'>\n",
      "RangeIndex: 23481 entries, 0 to 23480\n",
      "Data columns (total 4 columns):\n",
      " #   Column   Non-Null Count  Dtype \n",
      "---  ------   --------------  ----- \n",
      " 0   title    23481 non-null  object\n",
      " 1   text     23481 non-null  object\n",
      " 2   subject  23481 non-null  object\n",
      " 3   date     23481 non-null  object\n",
      "dtypes: object(4)\n",
      "memory usage: 733.9+ KB\n",
      "\n",
      "\n",
      "<class 'pandas.core.frame.DataFrame'>\n",
      "RangeIndex: 21417 entries, 0 to 21416\n",
      "Data columns (total 4 columns):\n",
      " #   Column   Non-Null Count  Dtype \n",
      "---  ------   --------------  ----- \n",
      " 0   title    21417 non-null  object\n",
      " 1   text     21417 non-null  object\n",
      " 2   subject  21417 non-null  object\n",
      " 3   date     21417 non-null  object\n",
      "dtypes: object(4)\n",
      "memory usage: 669.4+ KB\n"
     ]
    }
   ],
   "source": [
    "fake.info()\n",
    "print('\\n')\n",
    "true.info()"
   ]
  },
  {
   "cell_type": "markdown",
   "id": "e9ae11b0",
   "metadata": {},
   "source": [
    "From the above info, we can see that every row of the two datasets are non-null which helps reduce the required data cleaning for this particular dataset. This is due to the fact that data of every single article is required to train the model as long as it is non-null."
   ]
  },
  {
   "cell_type": "code",
   "execution_count": 70,
   "id": "8878f88c",
   "metadata": {},
   "outputs": [
    {
     "data": {
      "text/plain": [
       "subject\n",
       "News               9050\n",
       "politics           6841\n",
       "left-news          4459\n",
       "Government News    1570\n",
       "US_News             783\n",
       "Middle-east         778\n",
       "Name: count, dtype: int64"
      ]
     },
     "metadata": {},
     "output_type": "display_data"
    },
    {
     "name": "stdout",
     "output_type": "stream",
     "text": [
      "\n",
      "\n"
     ]
    },
    {
     "data": {
      "text/plain": [
       "subject\n",
       "politicsNews    11272\n",
       "worldnews       10145\n",
       "Name: count, dtype: int64"
      ]
     },
     "metadata": {},
     "output_type": "display_data"
    }
   ],
   "source": [
    "display(fake.subject.value_counts())\n",
    "print('\\n')\n",
    "display(true.subject.value_counts())"
   ]
  },
  {
   "cell_type": "markdown",
   "id": "ac844383",
   "metadata": {},
   "source": [
    "We can see that the subject column provides slight clarity with regards to differentiating between fake and true news articles. There are no overlapping subjects between the two kinds of articles, although politics in fake news is similar to politicsNews in true news. Thus one can clearly tell fake news based on its subject alone. \n",
    "\n",
    "However, we aim to differentiate between the two kinds of articles via their content with our model. Thus this column shall be dropped to facilitate the process. Furthermore, the best way to train the model would be to use a dataset with both fake and true articles in no specific order. "
   ]
  },
  {
   "cell_type": "markdown",
   "id": "00c978c8",
   "metadata": {},
   "source": [
    "### Preprocessing"
   ]
  },
  {
   "cell_type": "markdown",
   "id": "392e90cf",
   "metadata": {},
   "source": [
    "Firstly, we add labels to the dataset so we can identify which articles are fake and real. Next we shall concatenate the two datasets and shuffle the various articles."
   ]
  },
  {
   "cell_type": "code",
   "execution_count": 71,
   "id": "46b1f715",
   "metadata": {},
   "outputs": [],
   "source": [
    "fake['label'] = 'fake'\n",
    "true['label'] = 'true'"
   ]
  },
  {
   "cell_type": "code",
   "execution_count": 73,
   "id": "b9fb395d",
   "metadata": {},
   "outputs": [
    {
     "data": {
      "text/html": [
       "<div>\n",
       "<style scoped>\n",
       "    .dataframe tbody tr th:only-of-type {\n",
       "        vertical-align: middle;\n",
       "    }\n",
       "\n",
       "    .dataframe tbody tr th {\n",
       "        vertical-align: top;\n",
       "    }\n",
       "\n",
       "    .dataframe thead th {\n",
       "        text-align: right;\n",
       "    }\n",
       "</style>\n",
       "<table border=\"1\" class=\"dataframe\">\n",
       "  <thead>\n",
       "    <tr style=\"text-align: right;\">\n",
       "      <th></th>\n",
       "      <th>title</th>\n",
       "      <th>text</th>\n",
       "      <th>date</th>\n",
       "      <th>label</th>\n",
       "    </tr>\n",
       "  </thead>\n",
       "  <tbody>\n",
       "    <tr>\n",
       "      <th>0</th>\n",
       "      <td>WATCH: Ted Cruz Humiliated For Blatantly Lyin...</td>\n",
       "      <td>Ted Cruz just keeps on embarrassing himself.Du...</td>\n",
       "      <td>March 11, 2016</td>\n",
       "      <td>fake</td>\n",
       "    </tr>\n",
       "    <tr>\n",
       "      <th>1</th>\n",
       "      <td>Erdogan, Putin say U.S. decision on Jerusalem ...</td>\n",
       "      <td>ANKARA (Reuters) - Turkish President Tayyip Er...</td>\n",
       "      <td>December 7, 2017</td>\n",
       "      <td>true</td>\n",
       "    </tr>\n",
       "    <tr>\n",
       "      <th>2</th>\n",
       "      <td>Russian lawmakers vote to bar entry to reporte...</td>\n",
       "      <td>MOSCOW (Reuters) - The State Duma lower house ...</td>\n",
       "      <td>December 6, 2017</td>\n",
       "      <td>true</td>\n",
       "    </tr>\n",
       "    <tr>\n",
       "      <th>3</th>\n",
       "      <td>DARPA Spending $62 Million to Create Military ...</td>\n",
       "      <td>21st Century Wire says Science fiction is now ...</td>\n",
       "      <td>March 9, 2016</td>\n",
       "      <td>fake</td>\n",
       "    </tr>\n",
       "    <tr>\n",
       "      <th>4</th>\n",
       "      <td>WATCH THIS: DID GOOGLE MANIPULATE Search For H...</td>\n",
       "      <td>While researching for a wrap-up on the June 7 ...</td>\n",
       "      <td>Jun 10, 2016</td>\n",
       "      <td>fake</td>\n",
       "    </tr>\n",
       "    <tr>\n",
       "      <th>...</th>\n",
       "      <td>...</td>\n",
       "      <td>...</td>\n",
       "      <td>...</td>\n",
       "      <td>...</td>\n",
       "    </tr>\n",
       "    <tr>\n",
       "      <th>44893</th>\n",
       "      <td>News Legend Dan Rather Just RAZED Trump’s Hat...</td>\n",
       "      <td>Trump s first immigration speech following his...</td>\n",
       "      <td>September 1, 2016</td>\n",
       "      <td>fake</td>\n",
       "    </tr>\n",
       "    <tr>\n",
       "      <th>44894</th>\n",
       "      <td>Blackstone's Schwarzman sees historic regulato...</td>\n",
       "      <td>(Reuters) - Blackstone Group LP (BX.N) Chairma...</td>\n",
       "      <td>December 6, 2016</td>\n",
       "      <td>true</td>\n",
       "    </tr>\n",
       "    <tr>\n",
       "      <th>44895</th>\n",
       "      <td>CLASSLESS REP WILSON: Trump Will Claim “Somebo...</td>\n",
       "      <td>Rep. Frederica Wilson spoke on Thursday at the...</td>\n",
       "      <td>Nov 4, 2017</td>\n",
       "      <td>fake</td>\n",
       "    </tr>\n",
       "    <tr>\n",
       "      <th>44896</th>\n",
       "      <td>Trump’s Deplorables Freak Out, Demand We Repe...</td>\n",
       "      <td>Women now have even more of a reason to vote o...</td>\n",
       "      <td>October 12, 2016</td>\n",
       "      <td>fake</td>\n",
       "    </tr>\n",
       "    <tr>\n",
       "      <th>44897</th>\n",
       "      <td>Thailand's political activity ban stays for no...</td>\n",
       "      <td>BANGKOK (Reuters) - Thailand s military govern...</td>\n",
       "      <td>October 31, 2017</td>\n",
       "      <td>true</td>\n",
       "    </tr>\n",
       "  </tbody>\n",
       "</table>\n",
       "<p>44898 rows × 4 columns</p>\n",
       "</div>"
      ],
      "text/plain": [
       "                                                   title  \\\n",
       "0       WATCH: Ted Cruz Humiliated For Blatantly Lyin...   \n",
       "1      Erdogan, Putin say U.S. decision on Jerusalem ...   \n",
       "2      Russian lawmakers vote to bar entry to reporte...   \n",
       "3      DARPA Spending $62 Million to Create Military ...   \n",
       "4      WATCH THIS: DID GOOGLE MANIPULATE Search For H...   \n",
       "...                                                  ...   \n",
       "44893   News Legend Dan Rather Just RAZED Trump’s Hat...   \n",
       "44894  Blackstone's Schwarzman sees historic regulato...   \n",
       "44895  CLASSLESS REP WILSON: Trump Will Claim “Somebo...   \n",
       "44896   Trump’s Deplorables Freak Out, Demand We Repe...   \n",
       "44897  Thailand's political activity ban stays for no...   \n",
       "\n",
       "                                                    text               date  \\\n",
       "0      Ted Cruz just keeps on embarrassing himself.Du...     March 11, 2016   \n",
       "1      ANKARA (Reuters) - Turkish President Tayyip Er...  December 7, 2017    \n",
       "2      MOSCOW (Reuters) - The State Duma lower house ...  December 6, 2017    \n",
       "3      21st Century Wire says Science fiction is now ...      March 9, 2016   \n",
       "4      While researching for a wrap-up on the June 7 ...       Jun 10, 2016   \n",
       "...                                                  ...                ...   \n",
       "44893  Trump s first immigration speech following his...  September 1, 2016   \n",
       "44894  (Reuters) - Blackstone Group LP (BX.N) Chairma...  December 6, 2016    \n",
       "44895  Rep. Frederica Wilson spoke on Thursday at the...        Nov 4, 2017   \n",
       "44896  Women now have even more of a reason to vote o...   October 12, 2016   \n",
       "44897  BANGKOK (Reuters) - Thailand s military govern...  October 31, 2017    \n",
       "\n",
       "      label  \n",
       "0      fake  \n",
       "1      true  \n",
       "2      true  \n",
       "3      fake  \n",
       "4      fake  \n",
       "...     ...  \n",
       "44893  fake  \n",
       "44894  true  \n",
       "44895  fake  \n",
       "44896  fake  \n",
       "44897  true  \n",
       "\n",
       "[44898 rows x 4 columns]"
      ]
     },
     "execution_count": 73,
     "metadata": {},
     "output_type": "execute_result"
    }
   ],
   "source": [
    "#concatenate the two datasets\n",
    "dataset = pd.concat([fake, true], axis=0)\n",
    "#shuffles rows in dataset\n",
    "dataset = dataset.sample(frac=1).reset_index(drop=True)\n",
    "dataset.drop('subject', axis=1)"
   ]
  },
  {
   "cell_type": "markdown",
   "id": "619c91d8",
   "metadata": {},
   "source": [
    "### Splitting dataset\n",
    "\n",
    "Now we split the dataset into training and test dataset "
   ]
  },
  {
   "cell_type": "code",
   "execution_count": 75,
   "id": "e8528afe",
   "metadata": {},
   "outputs": [
    {
     "data": {
      "text/plain": [
       "2044     After allegedly registering 10,000 Muslims to ...\n",
       "36711    Pregnant women throughout the America s are th...\n",
       "38178    ISTANBUL (Reuters) - Dozens of people were sto...\n",
       "24903    Don t mess with Texas A Texas pig farmer found...\n",
       "35937    WASHINGTON (Reuters) - U.S. Vice President Mik...\n",
       "Name: text, dtype: object"
      ]
     },
     "metadata": {},
     "output_type": "display_data"
    },
    {
     "name": "stdout",
     "output_type": "stream",
     "text": [
      "\n",
      "\n"
     ]
    },
    {
     "data": {
      "text/plain": [
       "2044     fake\n",
       "36711    fake\n",
       "38178    true\n",
       "24903    fake\n",
       "35937    true\n",
       "Name: label, dtype: object"
      ]
     },
     "metadata": {},
     "output_type": "display_data"
    }
   ],
   "source": [
    "X_train, X_test, y_train, y_test = train_test_split(dataset['text'], dataset['label'], test_size=0.25)\n",
    "\n",
    "#preview of X_train\n",
    "display(X_train.head())\n",
    "\n",
    "print('\\n')\n",
    "#preview of y_train\n",
    "display(y_train.head())\n"
   ]
  },
  {
   "cell_type": "markdown",
   "id": "1d368d38",
   "metadata": {},
   "source": [
    "### Data representation\n"
   ]
  },
  {
   "cell_type": "code",
   "execution_count": 76,
   "id": "aefdf842",
   "metadata": {},
   "outputs": [
    {
     "data": {
      "text/plain": [
       "<33673x108161 sparse matrix of type '<class 'numpy.float64'>'\n",
       "\twith 5135691 stored elements in Compressed Sparse Row format>"
      ]
     },
     "execution_count": 76,
     "metadata": {},
     "output_type": "execute_result"
    }
   ],
   "source": [
    "#initialise TfidfVectorizer object and remove stop words\n",
    "main_tfidf = TfidfVectorizer(stop_words='english', max_df=0.7)\n",
    "\n",
    "#fit vectorizer and transform X_train into tf-idf matrix\n",
    "tfidf_train = main_tfidf.fit_transform(X_train)\n",
    "\n",
    "#use fitted vectorizer to transform X_test\n",
    "tfidf_test = main_tfidf.transform(X_test)\n",
    "\n",
    "tfidf_train"
   ]
  },
  {
   "attachments": {
    "telegram-cloud-photo-size-5-6131862454620240596-x.jpg": {
     "image/jpeg": "[encoded data removed]"
    }
   },
   "cell_type": "markdown",
   "id": "b4b8f756",
   "metadata": {},
   "source": [
    "The text representation I have chosen term frequency-inverse document frequency, tf-idf for short. It is an algorithm that utilises the frequency of words to determine how relevant or important they are to a specific document. TF refers to term frequency, which refers to the frequency of a particular term in the document. There are multiple ways to define frequency, but the most common way is the number of times the word appears in a document. \n",
    "\n",
    "IDF refers to inverse document frequency, which looks at how common or uncommon a word is in the corpus. IDF is calculated as follows, where t is the particular term and N is the number of documents (d) in the corpus (D). The denominator is the number of documents which t appears in.\n",
    "\n",
    "![telegram-cloud-photo-size-5-6131862454620240596-x.jpg](attachment:telegram-cloud-photo-size-5-6131862454620240596-x.jpg)\n",
    "\n",
    "The term with the highest score is the most relevant to that document. If a term appears very commonly across different documents it will be penalised with a small idf. However, an uncommon word with a smaller value of idf may have a bigger idf value for not appearing often in different documents."
   ]
  },
  {
   "cell_type": "markdown",
   "id": "1d6a8846",
   "metadata": {},
   "source": [
    "### Classification approach\n",
    "\n",
    "The model that I have chosen is the Passive-Aggressive Classifier. It is an online algorithm where input datacomes in sequential order and the model is updated step-by-step. Compared to batch learning where entire training datasets are used at once, an online algorithm is especially useful where there is a huge amount of data and it is computationally impractical due to the size of the data. This is very useful when dealing with datasets containing increasing number of examples like news articles or tweets. Although currently we are using a static database in this project, this approach will be extremely useful and advantageous when used in a real-life scenario where the dataset involved contains an increasing number of articles or tweets.\n",
    "\n",
    "The classifier is named that way because it is passive when the prediction is correct, the model is kept and no changes are made. However, when the prediction is incorrect, it becomes aggressive and some changes are made to the model to correct it."
   ]
  },
  {
   "cell_type": "code",
   "execution_count": 77,
   "id": "e6e5f48a",
   "metadata": {},
   "outputs": [],
   "source": [
    "#import passiveaggressiveclassifier\n",
    "from sklearn.linear_model import PassiveAggressiveClassifier"
   ]
  },
  {
   "cell_type": "code",
   "execution_count": 103,
   "id": "313ab1e9",
   "metadata": {},
   "outputs": [
    {
     "data": {
      "text/html": [
       "<style>#sk-container-id-4 {color: black;}#sk-container-id-4 pre{padding: 0;}#sk-container-id-4 div.sk-toggleable {background-color: white;}#sk-container-id-4 label.sk-toggleable__label {cursor: pointer;display: block;width: 100%;margin-bottom: 0;padding: 0.3em;box-sizing: border-box;text-align: center;}#sk-container-id-4 label.sk-toggleable__label-arrow:before {content: \"▸\";float: left;margin-right: 0.25em;color: #696969;}#sk-container-id-4 label.sk-toggleable__label-arrow:hover:before {color: black;}#sk-container-id-4 div.sk-estimator:hover label.sk-toggleable__label-arrow:before {color: black;}#sk-container-id-4 div.sk-toggleable__content {max-height: 0;max-width: 0;overflow: hidden;text-align: left;background-color: #f0f8ff;}#sk-container-id-4 div.sk-toggleable__content pre {margin: 0.2em;color: black;border-radius: 0.25em;background-color: #f0f8ff;}#sk-container-id-4 input.sk-toggleable__control:checked~div.sk-toggleable__content {max-height: 200px;max-width: 100%;overflow: auto;}#sk-container-id-4 input.sk-toggleable__control:checked~label.sk-toggleable__label-arrow:before {content: \"▾\";}#sk-container-id-4 div.sk-estimator input.sk-toggleable__control:checked~label.sk-toggleable__label {background-color: #d4ebff;}#sk-container-id-4 div.sk-label input.sk-toggleable__control:checked~label.sk-toggleable__label {background-color: #d4ebff;}#sk-container-id-4 input.sk-hidden--visually {border: 0;clip: rect(1px 1px 1px 1px);clip: rect(1px, 1px, 1px, 1px);height: 1px;margin: -1px;overflow: hidden;padding: 0;position: absolute;width: 1px;}#sk-container-id-4 div.sk-estimator {font-family: monospace;background-color: #f0f8ff;border: 1px dotted black;border-radius: 0.25em;box-sizing: border-box;margin-bottom: 0.5em;}#sk-container-id-4 div.sk-estimator:hover {background-color: #d4ebff;}#sk-container-id-4 div.sk-parallel-item::after {content: \"\";width: 100%;border-bottom: 1px solid gray;flex-grow: 1;}#sk-container-id-4 div.sk-label:hover label.sk-toggleable__label {background-color: #d4ebff;}#sk-container-id-4 div.sk-serial::before {content: \"\";position: absolute;border-left: 1px solid gray;box-sizing: border-box;top: 0;bottom: 0;left: 50%;z-index: 0;}#sk-container-id-4 div.sk-serial {display: flex;flex-direction: column;align-items: center;background-color: white;padding-right: 0.2em;padding-left: 0.2em;position: relative;}#sk-container-id-4 div.sk-item {position: relative;z-index: 1;}#sk-container-id-4 div.sk-parallel {display: flex;align-items: stretch;justify-content: center;background-color: white;position: relative;}#sk-container-id-4 div.sk-item::before, #sk-container-id-4 div.sk-parallel-item::before {content: \"\";position: absolute;border-left: 1px solid gray;box-sizing: border-box;top: 0;bottom: 0;left: 50%;z-index: -1;}#sk-container-id-4 div.sk-parallel-item {display: flex;flex-direction: column;z-index: 1;position: relative;background-color: white;}#sk-container-id-4 div.sk-parallel-item:first-child::after {align-self: flex-end;width: 50%;}#sk-container-id-4 div.sk-parallel-item:last-child::after {align-self: flex-start;width: 50%;}#sk-container-id-4 div.sk-parallel-item:only-child::after {width: 0;}#sk-container-id-4 div.sk-dashed-wrapped {border: 1px dashed gray;margin: 0 0.4em 0.5em 0.4em;box-sizing: border-box;padding-bottom: 0.4em;background-color: white;}#sk-container-id-4 div.sk-label label {font-family: monospace;font-weight: bold;display: inline-block;line-height: 1.2em;}#sk-container-id-4 div.sk-label-container {text-align: center;}#sk-container-id-4 div.sk-container {/* jupyter's `normalize.less` sets `[hidden] { display: none; }` but bootstrap.min.css set `[hidden] { display: none !important; }` so we also need the `!important` here to be able to override the default hidden behavior on the sphinx rendered scikit-learn.org. See: https://github.com/scikit-learn/scikit-learn/issues/21755 */display: inline-block !important;position: relative;}#sk-container-id-4 div.sk-text-repr-fallback {display: none;}</style><div id=\"sk-container-id-4\" class=\"sk-top-container\"><div class=\"sk-text-repr-fallback\"><pre>PassiveAggressiveClassifier(max_iter=100)</pre><b>In a Jupyter environment, please rerun this cell to show the HTML representation or trust the notebook. <br />On GitHub, the HTML representation is unable to render, please try loading this page with nbviewer.org.</b></div><div class=\"sk-container\" hidden><div class=\"sk-item\"><div class=\"sk-estimator sk-toggleable\"><input class=\"sk-toggleable__control sk-hidden--visually\" id=\"sk-estimator-id-4\" type=\"checkbox\" checked><label for=\"sk-estimator-id-4\" class=\"sk-toggleable__label sk-toggleable__label-arrow\">PassiveAggressiveClassifier</label><div class=\"sk-toggleable__content\"><pre>PassiveAggressiveClassifier(max_iter=100)</pre></div></div></div></div></div>"
      ],
      "text/plain": [
       "PassiveAggressiveClassifier(max_iter=100)"
      ]
     },
     "execution_count": 103,
     "metadata": {},
     "output_type": "execute_result"
    }
   ],
   "source": [
    "#initiate PassiveAggressiveClassifier and train it with features from dataset\n",
    "pa_clsf = PassiveAggressiveClassifier(max_iter=100)\n",
    "pa_clsf.fit(tfidf_train, y_train)"
   ]
  },
  {
   "cell_type": "code",
   "execution_count": 109,
   "id": "fdf385ed",
   "metadata": {},
   "outputs": [
    {
     "data": {
      "text/plain": [
       "(<Figure size 640x480 with 2 Axes>,\n",
       " <Axes: xlabel='predicted label', ylabel='true label'>)"
      ]
     },
     "execution_count": 109,
     "metadata": {},
     "output_type": "execute_result"
    },
    {
     "data": {
      "image/png": "[encoded data removed]",
      "text/plain": [
       "<Figure size 640x480 with 2 Axes>"
      ]
     },
     "metadata": {},
     "output_type": "display_data"
    }
   ],
   "source": [
    "#implementing passiveaggressive algo to test dataset\n",
    "y_pred = pa_clsf.predict(tfidf_test)\n",
    "\n",
    "#initialising and plotting confusion matrix\n",
    "conf_matrix = confusion_matrix(y_test, y_pred)\n",
    "plot_confusion_matrix(conf_matrix, show_normed=True, colorbar=True, class_names=['Fake', 'True'])"
   ]
  },
  {
   "cell_type": "code",
   "execution_count": 112,
   "id": "918cb905",
   "metadata": {},
   "outputs": [
    {
     "name": "stdout",
     "output_type": "stream",
     "text": [
      "              precision    recall  f1-score   support\n",
      "\n",
      "        fake       1.00      0.99      0.99      5904\n",
      "        true       0.99      0.99      0.99      5321\n",
      "\n",
      "    accuracy                           0.99     11225\n",
      "   macro avg       0.99      0.99      0.99     11225\n",
      "weighted avg       0.99      0.99      0.99     11225\n",
      "\n",
      "The accuracy of prediction is 99.34%.\n",
      "\n",
      "The precision of prediction is 0.9916.\n",
      "\n",
      "The recall of prediction is 0.9945.\n",
      "\n",
      "The f1 score is 0.9931.\n",
      "\n"
     ]
    }
   ],
   "source": [
    "#classification report of precision, recall and f1score\n",
    "print(classification_report(y_test, y_pred))\n",
    "\n",
    "#initializing all scores and printing them\n",
    "acc_score = accuracy_score(y_test, y_pred)\n",
    "f1score = f1_score(y_test, y_pred, pos_label='true')\n",
    "prec_score = precision_score(y_test, y_pred, pos_label='true')\n",
    "rec_score = recall_score(y_test, y_pred, pos_label='true')\n",
    "\n",
    "print('The accuracy of prediction is {:.2f}%.\\n'.format(acc_score*100))\n",
    "print('The precision of prediction is {:.4f}.\\n'.format(prec_score))\n",
    "print('The recall of prediction is {:.4f}.\\n'.format(rec_score))\n",
    "print('The f1 score is {:.4f}.\\n'.format(f1score))\n"
   ]
  },
  {
   "cell_type": "markdown",
   "id": "fde797a3",
   "metadata": {},
   "source": [
    "# Conclusions\n",
    "\n",
    "### Evaluation\n",
    "\n",
    "We can see that this model has impressive performance when it comes to predicting if news are real or fake. With an accuracy of 99.34% the model is almost always correct with its prediction. Its precision score is at 0.9916 which means when it predicts that a particular piece of news is true, it is correct 99.16% of the time.\n",
    "\n",
    "The recall score of the model is 0.9945 which means for all the true news there are in the dataset, the model has correctly predicted 99.45% of them. A good F1 score would indicate good precision and recall values and we have achieved that here with a score of 0.9931. Overall this model can be considered a huge success.\n",
    "\n",
    "However, in real-world scenarios it may not be possible to consistently achieve a high F1 score. In that case, we should aim to prioritise a high recall score. It is more acceptable to classify a news article that is true as fake news because we can rectify these mistakes by running manual quality checks. However it would not be acceptable to classify fake news as real news as this may damage the reputation of the media outlet’s credibility. "
   ]
  },
  {
   "cell_type": "markdown",
   "id": "b46d4c39",
   "metadata": {},
   "source": [
    "### Summary and conclusions\n",
    "\n",
    "Overall the project can be considered a success due to its quantitative results of high scores in all the specified evaluation metrics. With the success of this particular model, we can now predict if news articles are fake or true. This allows accurate analysis of media outlets’ news articles to be done, which results in the possibility of publishing a list of credible media outlets for the public. With this list, users can perhaps utilise it to differentiate between proper news outlets and gossip news outlet. They can then decide which particular sites to visit based on their mood and preference.\n",
    "\n",
    "This solution is transferable to a variety of different domain-specific areas. Firstly, the passive aggressive classifier can be used in spam filtering, specifically in the domain of emails. The algorithm can be trained on a dataset of known spam emails, allowing them to be detected and filtered to remove them from the inbox. The classifier can be trained on a fraud cases dataset which can be used to then detect fraudulent transactions. This can greatly assist consumers by identifying fraudulent transactions which would then prevent scams from happening.\n",
    "\n",
    "This particular approach may not be replicated by using a different programming language as I have been unable to find an alternative to the passive aggressive classifier in other programming languages. A different development environment will be able to take this approach as long as python can be run and the specific libraries can be imported in the particular environment. There are a couple of alternative algorithms we can use in this project. We can use the logistic regression or Naive Bayes model to implement a simple classification algorithm. The potential benefits of these two models would be others would be able to run this on other programming languages such as Ruby. Users will be able to use different libraries in python such as StatsModels to run logistic regression. The potential drawbacks would be the other algorithms may not be as accurate as the PassiveAggressiveClassifier in a real-world scenario considering it is best used when dealing with a particularly large dataset like news articles or tweets."
   ]
  },
  {
   "cell_type": "code",
   "execution_count": null,
   "id": "7c39aa2b",
   "metadata": {},
   "outputs": [],
   "source": []
  }
 ],
 "metadata": {
  "kernelspec": {
   "display_name": "Python 3 (ipykernel)",
   "language": "python",
   "name": "python3"
  },
  "language_info": {
   "codemirror_mode": {
    "name": "ipython",
    "version": 3
   },
   "file_extension": ".py",
   "mimetype": "text/x-python",
   "name": "python",
   "nbconvert_exporter": "python",
   "pygments_lexer": "ipython3",
   "version": "3.11.1"
  }
 },
 "nbformat": 4,
 "nbformat_minor": 5
}
